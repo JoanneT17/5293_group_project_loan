{
 "cells": [
  {
   "cell_type": "code",
   "execution_count": 1,
   "id": "ec5e82f6",
   "metadata": {},
   "outputs": [],
   "source": [
    "# Import numpy, pandas, matplotlib.pyplot and seaborn\n",
    "import numpy\n",
    "import numpy as np\n",
    "import pandas as pd\n",
    "import matplotlib.pyplot as plt\n",
    "import seaborn as sns\n",
    "\n",
    "from mlxtend.plotting import plot_decision_regions\n",
    "\n",
    "sns.set_style('darkgrid')\n",
    "%matplotlib inline"
   ]
  },
  {
   "cell_type": "code",
   "execution_count": 2,
   "id": "943b1dc7",
   "metadata": {},
   "outputs": [],
   "source": [
    "sba = pd.read_csv('../data/SBA_cleaned_data.csv')\n",
    "df = sba.copy()"
   ]
  },
  {
   "cell_type": "markdown",
   "id": "fc5785c0",
   "metadata": {},
   "source": [
    "df = df[df.ApprovalFY >= 2000]"
   ]
  },
  {
   "cell_type": "code",
   "execution_count": 3,
   "id": "0587b39d",
   "metadata": {},
   "outputs": [],
   "source": [
    "features = ['NAICS', 'ApprovalFY', 'Term', 'NewExist','HasFranchise','UrbanRural','RevLineCr', 'GrAppv']\n",
    "\n",
    "x = df.loc[:, features]\n",
    "y = df.loc[:,['Default']]"
   ]
  },
  {
   "cell_type": "code",
   "execution_count": 4,
   "id": "fc95e705",
   "metadata": {},
   "outputs": [],
   "source": [
    "from sklearn.model_selection import train_test_split\n",
    "X_train,X_test,y_train,y_test = train_test_split(x,y,random_state=0)"
   ]
  },
  {
   "cell_type": "code",
   "execution_count": 5,
   "id": "e1c771b5",
   "metadata": {},
   "outputs": [],
   "source": [
    "from sklearn.preprocessing import StandardScaler\n",
    "\n",
    "ss = StandardScaler()\n",
    "X_train = pd.DataFrame(ss.fit_transform(X_train),columns=X_train.columns)\n",
    "\n",
    "X_test = ss.transform(X_test)"
   ]
  },
  {
   "cell_type": "code",
   "execution_count": 6,
   "id": "27fd6793",
   "metadata": {},
   "outputs": [
    {
     "data": {
      "text/plain": [
       "array(['NAICS', 'ApprovalFY', 'Term', 'NewExist', 'HasFranchise',\n",
       "       'UrbanRural', 'RevLineCr', 'GrAppv'], dtype=object)"
      ]
     },
     "execution_count": 6,
     "metadata": {},
     "output_type": "execute_result"
    }
   ],
   "source": [
    "X_train.columns.values"
   ]
  },
  {
   "cell_type": "code",
   "execution_count": 7,
   "id": "0b30c193",
   "metadata": {},
   "outputs": [
    {
     "data": {
      "text/html": [
       "<div>\n",
       "<style scoped>\n",
       "    .dataframe tbody tr th:only-of-type {\n",
       "        vertical-align: middle;\n",
       "    }\n",
       "\n",
       "    .dataframe tbody tr th {\n",
       "        vertical-align: top;\n",
       "    }\n",
       "\n",
       "    .dataframe thead th {\n",
       "        text-align: right;\n",
       "    }\n",
       "</style>\n",
       "<table border=\"1\" class=\"dataframe\">\n",
       "  <thead>\n",
       "    <tr style=\"text-align: right;\">\n",
       "      <th></th>\n",
       "      <th>mean</th>\n",
       "      <th>std</th>\n",
       "    </tr>\n",
       "  </thead>\n",
       "  <tbody>\n",
       "    <tr>\n",
       "      <th>NAICS</th>\n",
       "      <td>-1.178414e-16</td>\n",
       "      <td>1.000001</td>\n",
       "    </tr>\n",
       "    <tr>\n",
       "      <th>ApprovalFY</th>\n",
       "      <td>1.663585e-14</td>\n",
       "      <td>1.000001</td>\n",
       "    </tr>\n",
       "    <tr>\n",
       "      <th>Term</th>\n",
       "      <td>-6.614762e-17</td>\n",
       "      <td>1.000001</td>\n",
       "    </tr>\n",
       "    <tr>\n",
       "      <th>NewExist</th>\n",
       "      <td>2.210589e-18</td>\n",
       "      <td>1.000001</td>\n",
       "    </tr>\n",
       "    <tr>\n",
       "      <th>HasFranchise</th>\n",
       "      <td>-4.083212e-17</td>\n",
       "      <td>1.000001</td>\n",
       "    </tr>\n",
       "    <tr>\n",
       "      <th>UrbanRural</th>\n",
       "      <td>4.758080e-17</td>\n",
       "      <td>1.000001</td>\n",
       "    </tr>\n",
       "    <tr>\n",
       "      <th>RevLineCr</th>\n",
       "      <td>1.568668e-17</td>\n",
       "      <td>1.000001</td>\n",
       "    </tr>\n",
       "    <tr>\n",
       "      <th>GrAppv</th>\n",
       "      <td>3.857902e-18</td>\n",
       "      <td>1.000001</td>\n",
       "    </tr>\n",
       "  </tbody>\n",
       "</table>\n",
       "</div>"
      ],
      "text/plain": [
       "                      mean       std\n",
       "NAICS        -1.178414e-16  1.000001\n",
       "ApprovalFY    1.663585e-14  1.000001\n",
       "Term         -6.614762e-17  1.000001\n",
       "NewExist      2.210589e-18  1.000001\n",
       "HasFranchise -4.083212e-17  1.000001\n",
       "UrbanRural    4.758080e-17  1.000001\n",
       "RevLineCr     1.568668e-17  1.000001\n",
       "GrAppv        3.857902e-18  1.000001"
      ]
     },
     "execution_count": 7,
     "metadata": {},
     "output_type": "execute_result"
    }
   ],
   "source": [
    "X_train.agg(['mean','std']).T"
   ]
  },
  {
   "cell_type": "markdown",
   "id": "b21d0262",
   "metadata": {},
   "source": [
    "Feature Selection: LASSO"
   ]
  },
  {
   "cell_type": "code",
   "execution_count": 8,
   "id": "cef4a1f6",
   "metadata": {
    "scrolled": true
   },
   "outputs": [
    {
     "name": "stderr",
     "output_type": "stream",
     "text": [
      "C:\\Users\\hjn19\\anaconda3\\envs\\eods-s22\\lib\\site-packages\\sklearn\\utils\\validation.py:63: DataConversionWarning: A column-vector y was passed when a 1d array was expected. Please change the shape of y to (n_samples, ), for example using ravel().\n",
      "  return f(*args, **kwargs)\n"
     ]
    },
    {
     "name": "stdout",
     "output_type": "stream",
     "text": [
      "ApprovalFY                     :  0.357\n",
      "GrAppv                         :  0.140\n",
      "NAICS                          :  0.106\n",
      "UrbanRural                     :  0.072\n",
      "HasFranchise                   :  0.033\n",
      "NewExist                       :  0.032\n",
      "RevLineCr                      : -0.095\n",
      "Term                           : -1.921\n"
     ]
    }
   ],
   "source": [
    "from sklearn.linear_model import LogisticRegression\n",
    "logr = LogisticRegression(C = 0.1, penalty=\"l1\", solver=\"liblinear\", random_state=0)\n",
    "logr.fit(X_train, y_train)\n",
    "\n",
    "sorted_tuples = sorted(list(zip(X_train.columns.values,logr.coef_[0])),key=lambda x:x[1],reverse=True)\n",
    "for feature,coef in sorted_tuples:\n",
    "    print(f'{feature:30s} : {coef: 0.3f}')"
   ]
  },
  {
   "cell_type": "code",
   "execution_count": 9,
   "id": "37ef5d5d",
   "metadata": {},
   "outputs": [
    {
     "name": "stdout",
     "output_type": "stream",
     "text": [
      "ApprovalFY                     :  0.357\n",
      "GrAppv                         :  0.140\n",
      "NAICS                          :  0.106\n",
      "UrbanRural                     :  0.072\n",
      "HasFranchise                   :  0.033\n",
      "NewExist                       :  0.032\n",
      "RevLineCr                      : -0.095\n",
      "Term                           : -1.921\n"
     ]
    }
   ],
   "source": [
    "sorted_tuples = sorted(list(zip(X_train.columns.values,logr.coef_[0])),key=lambda x:x[1],reverse=True)\n",
    "for feature,coef in sorted_tuples:\n",
    "    print(f'{feature:30s} : {coef: 0.3f}')"
   ]
  },
  {
   "cell_type": "markdown",
   "id": "3ec50ecd",
   "metadata": {},
   "source": [
    "Feature Selection: Tree Based"
   ]
  },
  {
   "cell_type": "code",
   "execution_count": 10,
   "id": "a35631d0",
   "metadata": {},
   "outputs": [
    {
     "name": "stderr",
     "output_type": "stream",
     "text": [
      "C:\\Users\\hjn19\\AppData\\Local\\Temp\\ipykernel_30524\\3134166377.py:2: DataConversionWarning: A column-vector y was passed when a 1d array was expected. Please change the shape of y to (n_samples,), for example using ravel().\n",
      "  rf = RandomForestClassifier(random_state=0).fit(X_train,y_train)\n"
     ]
    },
    {
     "data": {
      "text/plain": [
       "Term            0.595\n",
       "GrAppv          0.155\n",
       "ApprovalFY      0.136\n",
       "NAICS           0.063\n",
       "UrbanRural      0.026\n",
       "RevLineCr       0.014\n",
       "NewExist        0.007\n",
       "HasFranchise    0.003\n",
       "dtype: float64"
      ]
     },
     "execution_count": 10,
     "metadata": {},
     "output_type": "execute_result"
    }
   ],
   "source": [
    "from sklearn.ensemble import RandomForestClassifier\n",
    "rf = RandomForestClassifier(random_state=0).fit(X_train,y_train)\n",
    "feature_importances = pd.Series(rf.feature_importances_,index=X_train.columns)\n",
    "feature_importances.sort_values(ascending=False).round(3)"
   ]
  },
  {
   "cell_type": "code",
   "execution_count": 11,
   "id": "8d886d7b",
   "metadata": {},
   "outputs": [
    {
     "data": {
      "image/png": "[encoded data removed]",
      "text/plain": [
       "<Figure size 864x720 with 1 Axes>"
      ]
     },
     "metadata": {
      "needs_background": "light"
     },
     "output_type": "display_data"
    }
   ],
   "source": [
    "fig,ax = plt.subplots(1,1,figsize=(12,10))\n",
    "feature_importances.sort_values().plot.barh(ax=ax);\n",
    "ax.set_yticklabels(ax.get_yticklabels(),fontsize=20);"
   ]
  },
  {
   "cell_type": "markdown",
   "id": "b362cc85",
   "metadata": {},
   "source": [
    "Feature Selection: Selection From Model"
   ]
  },
  {
   "cell_type": "code",
   "execution_count": 12,
   "id": "f75af9a2",
   "metadata": {},
   "outputs": [
    {
     "name": "stderr",
     "output_type": "stream",
     "text": [
      "C:\\Users\\hjn19\\anaconda3\\envs\\eods-s22\\lib\\site-packages\\sklearn\\feature_selection\\_from_model.py:235: DataConversionWarning: A column-vector y was passed when a 1d array was expected. Please change the shape of y to (n_samples,), for example using ravel().\n",
      "  self.estimator_.fit(X, y, **fit_params)\n",
      "C:\\Users\\hjn19\\anaconda3\\envs\\eods-s22\\lib\\site-packages\\sklearn\\feature_selection\\_from_model.py:235: DataConversionWarning: A column-vector y was passed when a 1d array was expected. Please change the shape of y to (n_samples,), for example using ravel().\n",
      "  self.estimator_.fit(X, y, **fit_params)\n"
     ]
    }
   ],
   "source": [
    "from sklearn.feature_selection import SelectFromModel\n",
    "sfm_rf = SelectFromModel(RandomForestClassifier(),\n",
    "                         threshold='mean',   # return all features with value greater than the mean\n",
    "                         prefit=False        # will refit\n",
    "                        ).fit(X_train,y_train)\n",
    "\n",
    "X_train.columns[sfm_rf.get_support()]\n",
    "\n",
    "sfm_rf = SelectFromModel(RandomForestClassifier(),threshold='mean')\n",
    "X_train_subset = sfm_rf.fit_transform(X_train,y_train)\n",
    "X_test_subset = sfm_rf.transform(X_test)"
   ]
  },
  {
   "cell_type": "code",
   "execution_count": 13,
   "id": "c8446b7e",
   "metadata": {},
   "outputs": [
    {
     "data": {
      "text/plain": [
       "Term            0.592\n",
       "GrAppv          0.156\n",
       "ApprovalFY      0.139\n",
       "NAICS           0.063\n",
       "UrbanRural      0.026\n",
       "RevLineCr       0.013\n",
       "NewExist        0.007\n",
       "HasFranchise    0.003\n",
       "dtype: float64"
      ]
     },
     "execution_count": 13,
     "metadata": {},
     "output_type": "execute_result"
    }
   ],
   "source": [
    "feature_importances = pd.Series(sfm_rf.estimator_.feature_importances_,index=X_train.columns)\n",
    "feature_importances.sort_values(ascending=False).round(3)"
   ]
  },
  {
   "cell_type": "code",
   "execution_count": 8,
   "id": "502ae379",
   "metadata": {
    "scrolled": true
   },
   "outputs": [],
   "source": [
    "from sklearn.decomposition import PCA\n",
    "pca = PCA()\n",
    "X_train_pca = pca.fit_transform(X_train)\n",
    "exp_var_pca = pca.explained_variance_ratio_\n",
    "cum_sum_eigenvalues = np.cumsum(exp_var_pca)"
   ]
  },
  {
   "cell_type": "code",
   "execution_count": 9,
   "id": "cfc45691",
   "metadata": {
    "scrolled": true
   },
   "outputs": [
    {
     "data": {
      "image/png": "[encoded data removed]",
      "text/plain": [
       "<Figure size 432x288 with 1 Axes>"
      ]
     },
     "metadata": {
      "needs_background": "light"
     },
     "output_type": "display_data"
    }
   ],
   "source": [
    "plt.bar(range(0,len(exp_var_pca)), exp_var_pca, alpha=0.5, align='center', label='Individual explained variance')\n",
    "plt.step(range(0,len(cum_sum_eigenvalues)), cum_sum_eigenvalues, where='mid',label='Cumulative explained variance')\n",
    "plt.ylabel('Explained variance ratio')\n",
    "plt.xlabel('Principal component index')\n",
    "plt.legend(loc='best')\n",
    "plt.tight_layout()\n",
    "plt.show()"
   ]
  },
  {
   "cell_type": "code",
   "execution_count": 10,
   "id": "934e8a52",
   "metadata": {},
   "outputs": [],
   "source": [
    "# > 80% of variance\n",
    "pca = PCA(n_components = 5)\n",
    "X_train = pca.fit_transform(X_train)\n",
    "X_train = pd.DataFrame(X_train,columns=[\"component\"+str(i) for i in range(5)])\n",
    "\n",
    "X_test = pca.transform(X_test)\n",
    "X_test = pd.DataFrame(X_test,columns=[\"component\"+str(i) for i in range(5)])"
   ]
  },
  {
   "cell_type": "code",
   "execution_count": 13,
   "id": "8d92504c",
   "metadata": {},
   "outputs": [
    {
     "name": "stdout",
     "output_type": "stream",
     "text": [
      "Accuracy of full data & all features: 0.8850513335965825\n"
     ]
    }
   ],
   "source": [
    "from sklearn.tree import DecisionTreeClassifier\n",
    "from sklearn import metrics\n",
    "# Create Decision Tree Model\n",
    "dt = DecisionTreeClassifier().fit(X_train,y_train)\n",
    "y_pred = dt.predict(X_test)\n",
    "print(\"Accuracy of full data & all features:\",metrics.accuracy_score(y_test, y_pred))"
   ]
  },
  {
   "cell_type": "code",
   "execution_count": 14,
   "id": "017d9c08",
   "metadata": {},
   "outputs": [
    {
     "name": "stdout",
     "output_type": "stream",
     "text": [
      "Fitting 5 folds for each of 60 candidates, totalling 300 fits\n",
      "bt best hyperparams: {'criterion': 'entropy', 'max_depth': 20, 'min_samples_leaf': 5}\n",
      "bt best mean cv accuracy: 0.78782\n"
     ]
    }
   ],
   "source": [
    "# Improve Model\n",
    "from sklearn.model_selection import GridSearchCV\n",
    "params = {\n",
    "    'max_depth': [5, 10, 20, 50, 100, 150],\n",
    "    'min_samples_leaf': [5, 10, 20, 50, 100],\n",
    "    'criterion': [\"gini\", \"entropy\"]\n",
    "}\n",
    "grid_search = GridSearchCV(DecisionTreeClassifier(), \n",
    "                           param_grid=params, \n",
    "                           refit=True,\n",
    "                           cv=5, n_jobs=-1, verbose=1, scoring = \"balanced_accuracy\").fit(X_train,y_train)\n",
    "print(f'bt best hyperparams: {grid_search.best_params_}')\n",
    "print(f'bt best mean cv accuracy: {grid_search.best_score_:.5f}')"
   ]
  },
  {
   "cell_type": "code",
   "execution_count": 15,
   "id": "49bf721b",
   "metadata": {},
   "outputs": [
    {
     "name": "stdout",
     "output_type": "stream",
     "text": [
      "train time:  11.647624731063843\n",
      "test time:  0.05012249946594238\n",
      "Accuracy:  0.8926885522489859\n",
      "Balanced Accuracy:  0.7958885057983449\n"
     ]
    }
   ],
   "source": [
    "# Accuracy & Time\n",
    "import time\n",
    "t1 = time.time()\n",
    "dt_imp = DecisionTreeClassifier(criterion = 'entropy', max_depth = 20, min_samples_leaf = 5).fit(X_train, y_train)\n",
    "t2 = time.time()\n",
    "y_pred_imp = dt_imp.predict(X_test)\n",
    "t3 = time.time()\n",
    "print(\"train time: \", t2 - t1)\n",
    "print(\"test time: \", t3 - t2)\n",
    "print(\"Accuracy: \",metrics.accuracy_score(y_test, y_pred_imp))\n",
    "print(\"Balanced Accuracy: \",metrics.balanced_accuracy_score(y_test, y_pred_imp))"
   ]
  },
  {
   "cell_type": "code",
   "execution_count": 22,
   "id": "e144835c",
   "metadata": {},
   "outputs": [],
   "source": [
    "from sklearn.tree import plot_tree\n",
    "# fig,ax = plt.subplots(1,1,figsize=(24,12))\n",
    "# plot_tree(dt_imp,ax=ax,fontsize=7,feature_names=X.columns,filled=True);"
   ]
  },
  {
   "cell_type": "code",
   "execution_count": 16,
   "id": "cdd32f03",
   "metadata": {},
   "outputs": [],
   "source": [
    "pca = PCA(n_components = 5)\n",
    "X_train = pca.fit_transform(X_train)\n",
    "X_train = pd.DataFrame(X_train,columns=[\"component\"+str(i) for i in range(5)])\n",
    "\n",
    "X_test = pca.transform(X_test)\n",
    "X_test = pd.DataFrame(X_test,columns=[\"component\"+str(i) for i in range(5)])\n",
    "\n",
    "\n",
    "principalDf = pd.DataFrame(pca.fit_transform(x), columns=[\"component\"+str(i) for i in range(5)]) \n",
    "finalDf = pd.concat([principalDf, y], axis = 1)\n",
    "finalDf.rename(columns = {'y':'Default'}, inplace = True)                     "
   ]
  },
  {
   "cell_type": "code",
   "execution_count": 17,
   "id": "114b7841",
   "metadata": {},
   "outputs": [],
   "source": [
    "finalDf.to_csv('../data/SBA_pca.csv')"
   ]
  }
 ],
 "metadata": {
  "kernelspec": {
   "display_name": "eods-s22",
   "language": "python",
   "name": "eods-s22"
  },
  "language_info": {
   "codemirror_mode": {
    "name": "ipython",
    "version": 3
   },
   "file_extension": ".py",
   "mimetype": "text/x-python",
   "name": "python",
   "nbconvert_exporter": "python",
   "pygments_lexer": "ipython3",
   "version": "3.9.9"
  }
 },
 "nbformat": 4,
 "nbformat_minor": 5
}
