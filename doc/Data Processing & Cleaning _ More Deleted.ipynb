{
 "cells": [
  {
   "cell_type": "code",
   "execution_count": 13,
   "id": "81738ef6",
   "metadata": {},
   "outputs": [],
   "source": [
    "import pandas as pd\n",
    "from sklearn.tree import DecisionTreeClassifier\n",
    "from sklearn.model_selection import train_test_split\n",
    "from sklearn import metrics \n",
    "import matplotlib.pyplot as plt\n",
    "import seaborn as sns\n",
    "from mlxtend.plotting import plot_decision_regions\n",
    "\n",
    "sns.set_style('darkgrid')\n",
    "%matplotlib inline"
   ]
  },
  {
   "cell_type": "code",
   "execution_count": 14,
   "id": "f1f29fb8",
   "metadata": {},
   "outputs": [
    {
     "name": "stderr",
     "output_type": "stream",
     "text": [
      "C:\\Users\\wyc\\anaconda3\\envs\\eods-s22\\lib\\site-packages\\IPython\\core\\interactiveshell.py:3251: DtypeWarning: Columns (9) have mixed types.Specify dtype option on import or set low_memory=False.\n",
      "  exec(code_obj, self.user_global_ns, self.user_ns)\n"
     ]
    }
   ],
   "source": [
    "# \"DisbursementDate\" for duplication\n",
    "sba = pd.read_csv('../data/SBAnational.csv')\n",
    "df = sba.copy()\n",
    "df.City = df.City.str.upper()\n",
    "# drop duplication\n",
    "df.drop_duplicates(subset=None,keep='first',inplace=True)"
   ]
  },
  {
   "cell_type": "code",
   "execution_count": 15,
   "id": "903e29dd",
   "metadata": {
    "scrolled": true
   },
   "outputs": [
    {
     "data": {
      "text/plain": [
       "NAICS            0\n",
       "ApprovalFY       0\n",
       "Term             0\n",
       "NewExist         0\n",
       "FranchiseCode    0\n",
       "UrbanRural       0\n",
       "RevLineCr        0\n",
       "MIS_Status       0\n",
       "GrAppv           0\n",
       "dtype: int64"
      ]
     },
     "execution_count": 15,
     "metadata": {},
     "output_type": "execute_result"
    }
   ],
   "source": [
    "df = df[['NAICS','ApprovalFY','Term','NewExist','FranchiseCode','UrbanRural','RevLineCr','MIS_Status','GrAppv']]\n",
    "# drop na (relatively NOT large data loss)\n",
    "df.dropna(inplace=True)\n",
    "df.isnull().sum()"
   ]
  },
  {
   "cell_type": "code",
   "execution_count": 16,
   "id": "fe44b4ee",
   "metadata": {},
   "outputs": [
    {
     "data": {
      "text/plain": [
       "array([451120, 722410, 621210, ..., 315280, 922140, 221121], dtype=int64)"
      ]
     },
     "execution_count": 16,
     "metadata": {},
     "output_type": "execute_result"
    }
   ],
   "source": [
    "df.NAICS.unique()"
   ]
  },
  {
   "cell_type": "code",
   "execution_count": 17,
   "id": "f4e7eeb9",
   "metadata": {},
   "outputs": [
    {
     "name": "stderr",
     "output_type": "stream",
     "text": [
      "C:\\Users\\wyc\\AppData\\Local\\Temp\\ipykernel_28468\\3157474579.py:9: SettingWithCopyWarning: \n",
      "A value is trying to be set on a copy of a slice from a DataFrame\n",
      "\n",
      "See the caveats in the documentation: https://pandas.pydata.org/pandas-docs/stable/user_guide/indexing.html#returning-a-view-versus-a-copy\n",
      "  df.FranchiseCode[df.FranchiseCode <= 1] = 0\n",
      "C:\\Users\\wyc\\AppData\\Local\\Temp\\ipykernel_28468\\3157474579.py:10: SettingWithCopyWarning: \n",
      "A value is trying to be set on a copy of a slice from a DataFrame\n",
      "\n",
      "See the caveats in the documentation: https://pandas.pydata.org/pandas-docs/stable/user_guide/indexing.html#returning-a-view-versus-a-copy\n",
      "  df.FranchiseCode[df.FranchiseCode > 1] = 1\n",
      "C:\\Users\\wyc\\AppData\\Local\\Temp\\ipykernel_28468\\3157474579.py:16: SettingWithCopyWarning: \n",
      "A value is trying to be set on a copy of a slice from a DataFrame\n",
      "\n",
      "See the caveats in the documentation: https://pandas.pydata.org/pandas-docs/stable/user_guide/indexing.html#returning-a-view-versus-a-copy\n",
      "  df.NewExist[df.NewExist == 2] = 1\n",
      "C:\\Users\\wyc\\AppData\\Local\\Temp\\ipykernel_28468\\3157474579.py:52: SettingWithCopyWarning: \n",
      "A value is trying to be set on a copy of a slice from a DataFrame\n",
      "\n",
      "See the caveats in the documentation: https://pandas.pydata.org/pandas-docs/stable/user_guide/indexing.html#returning-a-view-versus-a-copy\n",
      "  df.ApprovalFY[df.ApprovalFY == \"1976A\"] = df.ApprovalFY[df.ApprovalFY == \"1976A\"].apply(lambda x: x.strip('A'))\n"
     ]
    },
    {
     "data": {
      "text/plain": [
       "(353850, 10)"
      ]
     },
     "execution_count": 17,
     "metadata": {},
     "output_type": "execute_result"
    }
   ],
   "source": [
    "# keep first 2 digits of NAICS\n",
    "df.NAICS = pd.to_numeric(df.NAICS.astype(str).str[:2])\n",
    "df = df[df.NAICS != 0]\n",
    "# RevLineCr = 0, 1\n",
    "df = df[(df.RevLineCr == 'N') | (df.RevLineCr == 'Y')]\n",
    "df.RevLineCr.replace(['N', 'Y'],[0, 1], inplace=True)\n",
    "df.RevLineCr = pd.to_numeric(df.RevLineCr)\n",
    "# Franchise Code = 0, 1\n",
    "df.FranchiseCode[df.FranchiseCode <= 1] = 0\n",
    "df.FranchiseCode[df.FranchiseCode > 1] = 1\n",
    "df = df.rename(columns={\"FranchiseCode\":\"HasFranchise\"})\n",
    "# New Exist = 0, 1 (Delet NewExist = 0.0)\n",
    "df.NewExist = df.NewExist.astype(int)\n",
    "df = df[(df.NewExist == 1) | (df.NewExist == 2)]\n",
    "df.NewExist[df.NewExist == 1] = 0\n",
    "df.NewExist[df.NewExist == 2] = 1\n",
    "# Default \n",
    "df.MIS_Status.replace(['P I F', 'CHGOFF'],[0, 1], inplace=True)\n",
    "df = df.rename(columns={\"MIS_Status\":\"Default\"})\n",
    "df.Default = pd.to_numeric(df.Default)\n",
    "# Industry\n",
    "df['Industry'] = df['NAICS'].map({\n",
    "    11: 'Ag/For/Fish/Hunt',\n",
    "    21: 'Min/Quar/Oil_Gas_ext',\n",
    "    22: 'Utilities',\n",
    "    23: 'Construction',\n",
    "    31: 'Manufacturing',\n",
    "    32: 'Manufacturing',\n",
    "    33: 'Manufacturing',\n",
    "    42: 'Wholesale_trade',\n",
    "    44: 'Retail_trade',\n",
    "    45: 'Retail_trade',\n",
    "    48: 'Trans/Ware',\n",
    "    49: 'Trans/Ware',\n",
    "    51: 'Information',\n",
    "    52: 'Finance/Insurance',\n",
    "    53: 'RE/Rental/Lease',\n",
    "    54: 'Prof/Science/Tech',\n",
    "    55: 'Mgmt_comp',\n",
    "    56: 'Admin_sup/Waste_Mgmt_Rem',\n",
    "    61: 'Educational',\n",
    "    62: 'Healthcare/Social_assist',\n",
    "    71: 'Arts/Entertain/Rec',\n",
    "    72: 'Accom/Food_serv',\n",
    "    81: 'Other_no_pub',\n",
    "    92: 'Public_Admin'\n",
    "})\n",
    "# $, A, ...\n",
    "df.GrAppv = df.GrAppv.apply(lambda x: x.strip('$'))\n",
    "df.GrAppv = df.GrAppv.apply(lambda x : x.replace(',',''))\n",
    "df.GrAppv = pd.to_numeric(df.GrAppv)\n",
    "df.ApprovalFY[df.ApprovalFY == \"1976A\"] = df.ApprovalFY[df.ApprovalFY == \"1976A\"].apply(lambda x: x.strip('A'))\n",
    "# Change type\n",
    "df = df.astype({\"GrAppv\":'int', \"ApprovalFY\":'int'}) \n",
    "# UrbanRural\n",
    "df = df[df.UrbanRural != 0]\n",
    "df.UrbanRural[df.UrbanRural == 2] = 0\n",
    "df.shape"
   ]
  },
  {
   "cell_type": "code",
   "execution_count": 18,
   "id": "4e6f764c",
   "metadata": {},
   "outputs": [
    {
     "data": {
      "text/plain": [
       "0    258351\n",
       "1     95499\n",
       "Name: NewExist, dtype: int64"
      ]
     },
     "execution_count": 18,
     "metadata": {},
     "output_type": "execute_result"
    }
   ],
   "source": [
    "pd.value_counts(df.NewExist)"
   ]
  },
  {
   "cell_type": "code",
   "execution_count": 19,
   "id": "815f12d3",
   "metadata": {},
   "outputs": [],
   "source": [
    "df.to_csv('../data/SBA_cleaned_data_moredeleted.csv')"
   ]
  }
 ],
 "metadata": {
  "kernelspec": {
   "display_name": "eods-s22",
   "language": "python",
   "name": "eods-s22"
  },
  "language_info": {
   "codemirror_mode": {
    "name": "ipython",
    "version": 3
   },
   "file_extension": ".py",
   "mimetype": "text/x-python",
   "name": "python",
   "nbconvert_exporter": "python",
   "pygments_lexer": "ipython3",
   "version": "3.9.9"
  }
 },
 "nbformat": 4,
 "nbformat_minor": 5
}
