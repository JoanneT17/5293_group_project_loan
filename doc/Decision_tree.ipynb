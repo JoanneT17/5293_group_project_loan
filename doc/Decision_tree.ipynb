{
 "cells": [
  {
   "cell_type": "code",
   "execution_count": 1,
   "id": "ef9e2ba2",
   "metadata": {},
   "outputs": [],
   "source": [
    "import pandas as pd\n",
    "from sklearn.tree import DecisionTreeClassifier\n",
    "from sklearn.model_selection import train_test_split\n",
    "from sklearn import metrics \n",
    "import matplotlib.pyplot as plt\n",
    "import seaborn as sns\n",
    "from mlxtend.plotting import plot_decision_regions\n",
    "\n",
    "sns.set_style('darkgrid')\n",
    "%matplotlib inline"
   ]
  },
  {
   "cell_type": "code",
   "execution_count": 2,
   "id": "813c5077",
   "metadata": {},
   "outputs": [
    {
     "name": "stderr",
     "output_type": "stream",
     "text": [
      "C:\\Users\\hjn19\\anaconda3\\envs\\eods-s22\\lib\\site-packages\\IPython\\core\\interactiveshell.py:3251: DtypeWarning: Columns (9) have mixed types.Specify dtype option on import or set low_memory=False.\n",
      "  exec(code_obj, self.user_global_ns, self.user_ns)\n"
     ]
    }
   ],
   "source": [
    "# \"DisbursementDate\" for duplication\n",
    "sba = pd.read_csv('../data/SBAnational.csv', usecols=['City','Bank','NAICS','ApprovalFY','Term','NewExist','FranchiseCode','UrbanRural','RevLineCr','DisbursementDate','MIS_Status','ChgOffPrinGr','GrAppv','SBA_Appv'])\n",
    "df = sba.copy()\n",
    "df.City = df.City.str.upper()"
   ]
  },
  {
   "cell_type": "code",
   "execution_count": 3,
   "id": "d77922af",
   "metadata": {},
   "outputs": [],
   "source": [
    "# drop na (relatively NOT large data loss)\n",
    "df.dropna(inplace=True)\n",
    "# drop duplication\n",
    "df.drop_duplicates(subset=None,keep='first',inplace=True)"
   ]
  },
  {
   "cell_type": "code",
   "execution_count": 4,
   "id": "9cc315cc",
   "metadata": {},
   "outputs": [],
   "source": [
    "# keep first 2 digits of NAICS\n",
    "df.NAICS = pd.to_numeric(df.NAICS.astype(str).str[:2])"
   ]
  },
  {
   "cell_type": "code",
   "execution_count": 5,
   "id": "88321ce4",
   "metadata": {},
   "outputs": [],
   "source": [
    "# RevLineCr = 0, 1\n",
    "df.RevLineCr.replace(['N', '0', 'Y', 'T'],[0, 0, 1, 1], inplace=True)\n",
    "df = df[(df.RevLineCr == 0) | (df.RevLineCr == 1)]\n",
    "df.RevLineCr = pd.to_numeric(df.RevLineCr)"
   ]
  },
  {
   "cell_type": "code",
   "execution_count": 6,
   "id": "3a60ec60",
   "metadata": {},
   "outputs": [
    {
     "name": "stderr",
     "output_type": "stream",
     "text": [
      "C:\\Users\\hjn19\\AppData\\Local\\Temp\\ipykernel_17824\\3615426143.py:2: SettingWithCopyWarning: \n",
      "A value is trying to be set on a copy of a slice from a DataFrame\n",
      "\n",
      "See the caveats in the documentation: https://pandas.pydata.org/pandas-docs/stable/user_guide/indexing.html#returning-a-view-versus-a-copy\n",
      "  df.FranchiseCode[df.FranchiseCode <= 1] = 0\n",
      "C:\\Users\\hjn19\\AppData\\Local\\Temp\\ipykernel_17824\\3615426143.py:3: SettingWithCopyWarning: \n",
      "A value is trying to be set on a copy of a slice from a DataFrame\n",
      "\n",
      "See the caveats in the documentation: https://pandas.pydata.org/pandas-docs/stable/user_guide/indexing.html#returning-a-view-versus-a-copy\n",
      "  df.FranchiseCode[df.FranchiseCode > 1] = 1\n"
     ]
    }
   ],
   "source": [
    "# Franchise Code = 0, 1\n",
    "df.FranchiseCode[df.FranchiseCode <= 1] = 0\n",
    "df.FranchiseCode[df.FranchiseCode > 1] = 1\n",
    "df = df.rename(columns={\"FranchiseCode\":\"HasFranchise\"})"
   ]
  },
  {
   "cell_type": "code",
   "execution_count": 7,
   "id": "05442b2f",
   "metadata": {},
   "outputs": [
    {
     "name": "stderr",
     "output_type": "stream",
     "text": [
      "C:\\Users\\hjn19\\AppData\\Local\\Temp\\ipykernel_17824\\444631270.py:5: SettingWithCopyWarning: \n",
      "A value is trying to be set on a copy of a slice from a DataFrame\n",
      "\n",
      "See the caveats in the documentation: https://pandas.pydata.org/pandas-docs/stable/user_guide/indexing.html#returning-a-view-versus-a-copy\n",
      "  df.NewExist[df.NewExist == 1] = 0\n"
     ]
    }
   ],
   "source": [
    "# New Exist = 0, 1 (Delet NewExist = 0.0)\n",
    "df.NewExist = df.NewExist.astype(int)\n",
    "df = df[(df.NewExist == 1) | (df.NewExist == 2)]\n",
    "df.NewExist[df.NewExist == 2] = 1\n",
    "df.NewExist[df.NewExist == 1] = 0"
   ]
  },
  {
   "cell_type": "code",
   "execution_count": 8,
   "id": "4fd616a4",
   "metadata": {},
   "outputs": [],
   "source": [
    "df.MIS_Status.replace(['P I F', 'CHGOFF'],[0, 1], inplace=True)\n",
    "df = df.rename(columns={\"MIS_Status\":\"Default\"})\n",
    "df.Default = pd.to_numeric(df.Default)"
   ]
  },
  {
   "cell_type": "code",
   "execution_count": 9,
   "id": "b20e54fc",
   "metadata": {},
   "outputs": [
    {
     "name": "stderr",
     "output_type": "stream",
     "text": [
      "C:\\Users\\hjn19\\AppData\\Local\\Temp\\ipykernel_17824\\4028586802.py:10: SettingWithCopyWarning: \n",
      "A value is trying to be set on a copy of a slice from a DataFrame\n",
      "\n",
      "See the caveats in the documentation: https://pandas.pydata.org/pandas-docs/stable/user_guide/indexing.html#returning-a-view-versus-a-copy\n",
      "  df.ApprovalFY[df.ApprovalFY == \"1976A\"] = df.ApprovalFY[df.ApprovalFY == \"1976A\"].apply(lambda x: x.strip('A'))\n"
     ]
    }
   ],
   "source": [
    "df.ChgOffPrinGr = df.ChgOffPrinGr.apply(lambda x: x.strip('$'))\n",
    "df.ChgOffPrinGr = df.ChgOffPrinGr.apply(lambda x : x.replace(',',''))\n",
    "df.ChgOffPrinGr = pd.to_numeric(df.ChgOffPrinGr)\n",
    "df.GrAppv = df.GrAppv.apply(lambda x: x.strip('$'))\n",
    "df.GrAppv = df.GrAppv.apply(lambda x : x.replace(',',''))\n",
    "df.GrAppv = pd.to_numeric(df.GrAppv)\n",
    "df.SBA_Appv = df.SBA_Appv.apply(lambda x: x.strip('$'))\n",
    "df.SBA_Appv = df.SBA_Appv.apply(lambda x : x.replace(',',''))\n",
    "df.SBA_Appv = pd.to_numeric(df.SBA_Appv)\n",
    "df.ApprovalFY[df.ApprovalFY == \"1976A\"] = df.ApprovalFY[df.ApprovalFY == \"1976A\"].apply(lambda x: x.strip('A'))"
   ]
  },
  {
   "cell_type": "code",
   "execution_count": 10,
   "id": "b6bf7133",
   "metadata": {},
   "outputs": [
    {
     "data": {
      "text/plain": [
       "City                 object\n",
       "Bank                 object\n",
       "NAICS                 int64\n",
       "ApprovalFY           object\n",
       "Term                  int64\n",
       "NewExist              int32\n",
       "HasFranchise          int64\n",
       "UrbanRural            int64\n",
       "RevLineCr             int64\n",
       "DisbursementDate     object\n",
       "Default               int64\n",
       "ChgOffPrinGr        float64\n",
       "GrAppv              float64\n",
       "SBA_Appv            float64\n",
       "dtype: object"
      ]
     },
     "execution_count": 10,
     "metadata": {},
     "output_type": "execute_result"
    }
   ],
   "source": [
    "df.dtypes"
   ]
  },
  {
   "cell_type": "code",
   "execution_count": 17,
   "id": "c75d43cf",
   "metadata": {},
   "outputs": [
    {
     "data": {
      "text/plain": [
       "(887035, 14)"
      ]
     },
     "execution_count": 17,
     "metadata": {},
     "output_type": "execute_result"
    }
   ],
   "source": [
    "df = df.astype({\"ChgOffPrinGr\":'int', \"GrAppv\":'int', \"SBA_Appv\":'int', \"ApprovalFY\":'int'}) \n",
    "df.shape"
   ]
  },
  {
   "cell_type": "code",
   "execution_count": 18,
   "id": "553227b2",
   "metadata": {},
   "outputs": [],
   "source": [
    "# Create Features & Target variable\n",
    "feature_cols = ['NAICS', 'ApprovalFY', 'Term', 'NewExist','HasFranchise','UrbanRural','RevLineCr','GrAppv','SBA_Appv']\n",
    "X = df[feature_cols]\n",
    "y = df.Default"
   ]
  },
  {
   "cell_type": "code",
   "execution_count": 19,
   "id": "9f16d668",
   "metadata": {},
   "outputs": [],
   "source": [
    "# Split Train Data \n",
    "X_train, X_test, y_train, y_test = train_test_split(X, y, test_size=0.1, random_state=1)"
   ]
  },
  {
   "cell_type": "code",
   "execution_count": 20,
   "id": "2ef19a9b",
   "metadata": {},
   "outputs": [
    {
     "name": "stdout",
     "output_type": "stream",
     "text": [
      "Accuracy: 0.9226979617604618\n"
     ]
    }
   ],
   "source": [
    "# Create Decision Tree Model\n",
    "dt = DecisionTreeClassifier().fit(X_train,y_train)\n",
    "y_pred = dt.predict(X_test)\n",
    "print(\"Accuracy:\",metrics.accuracy_score(y_test, y_pred))"
   ]
  },
  {
   "cell_type": "code",
   "execution_count": 27,
   "id": "03948b3f",
   "metadata": {},
   "outputs": [
    {
     "name": "stdout",
     "output_type": "stream",
     "text": [
      "Fitting 5 folds for each of 50 candidates, totalling 250 fits\n"
     ]
    }
   ],
   "source": [
    "# Improve Model\n",
    "from sklearn.model_selection import GridSearchCV\n",
    "params = {\n",
    "    'max_depth': [5, 10, 20, 50, 100],\n",
    "    'min_samples_leaf': [5, 10, 20, 50, 100],\n",
    "    'criterion': [\"gini\", \"entropy\"]\n",
    "}\n",
    "grid_search = GridSearchCV(DecisionTreeClassifier(), \n",
    "                           param_grid=params, \n",
    "                           refit=True,\n",
    "                           cv=5, n_jobs=-1, verbose=1, scoring = \"accuracy\").fit(X_train,y_train)\n",
    "\n",
    "print(f'bt best hyperparams      : {grid_search.best_params_}')\n",
    "print(f'bt best mean cv accuracy : {grid_search.best_score_:.5f}')"
   ]
  },
  {
   "cell_type": "code",
   "execution_count": 30,
   "id": "88c91b57",
   "metadata": {},
   "outputs": [
    {
     "name": "stdout",
     "output_type": "stream",
     "text": [
      "Accuracy: 0.943226911976912\n"
     ]
    }
   ],
   "source": [
    "dt_imp = DecisionTreeClassifier(criterion = 'entropy', max_depth = 20, min_samples_leaf = 50).fit(X_train,y_train)\n",
    "y_pred_imp = dt_imp.predict(X_test)\n",
    "print(\"Accuracy:\",metrics.accuracy_score(y_test, y_pred_imp))"
   ]
  },
  {
   "cell_type": "code",
   "execution_count": 114,
   "id": "81c977a3",
   "metadata": {},
   "outputs": [],
   "source": [
    "from sklearn.tree import plot_tree\n",
    "# fig,ax = plt.subplots(1,1,figsize=(24,12))\n",
    "# plot_tree(dt_imp,ax=ax,fontsize=7,feature_names=X.columns,filled=True);"
   ]
  }
 ],
 "metadata": {
  "kernelspec": {
   "display_name": "eods-s22",
   "language": "python",
   "name": "eods-s22"
  },
  "language_info": {
   "codemirror_mode": {
    "name": "ipython",
    "version": 3
   },
   "file_extension": ".py",
   "mimetype": "text/x-python",
   "name": "python",
   "nbconvert_exporter": "python",
   "pygments_lexer": "ipython3",
   "version": "3.9.9"
  }
 },
 "nbformat": 4,
 "nbformat_minor": 5
}
