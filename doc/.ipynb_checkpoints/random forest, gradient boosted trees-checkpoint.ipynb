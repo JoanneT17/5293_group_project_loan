{
 "cells": [
  {
   "cell_type": "code",
   "execution_count": 1,
   "metadata": {},
   "outputs": [],
   "source": [
    "# Import packages\n",
    "import pandas as pd\n",
    "import numpy as np\n",
    "import matplotlib.pyplot as plt\n",
    "import seaborn as sns\n",
    "from sklearn.model_selection import train_test_split, cross_val_score\n",
    "from sklearn.metrics import accuracy_score, confusion_matrix, classification_report\n",
    "from sklearn.preprocessing import StandardScaler\n",
    "from sklearn.pipeline import Pipeline\n",
    "from sklearn.feature_selection import SelectKBest\n",
    "from sklearn.linear_model import LogisticRegression"
   ]
  },
  {
   "cell_type": "code",
   "execution_count": 2,
   "metadata": {},
   "outputs": [
    {
     "name": "stdout",
     "output_type": "stream",
     "text": [
      "<class 'pandas.core.frame.DataFrame'>\n",
      "RangeIndex: 891424 entries, 0 to 891423\n",
      "Data columns (total 11 columns):\n",
      " #   Column        Non-Null Count   Dtype \n",
      "---  ------        --------------   ----- \n",
      " 0   Unnamed: 0    891424 non-null  int64 \n",
      " 1   NAICS         891424 non-null  int64 \n",
      " 2   ApprovalFY    891424 non-null  int64 \n",
      " 3   Term          891424 non-null  int64 \n",
      " 4   NewExist      891424 non-null  int64 \n",
      " 5   HasFranchise  891424 non-null  int64 \n",
      " 6   UrbanRural    891424 non-null  int64 \n",
      " 7   RevLineCr     891424 non-null  int64 \n",
      " 8   Default       891424 non-null  int64 \n",
      " 9   GrAppv        891424 non-null  int64 \n",
      " 10  Industry      692257 non-null  object\n",
      "dtypes: int64(10), object(1)\n",
      "memory usage: 74.8+ MB\n"
     ]
    }
   ],
   "source": [
    "# Load dataset\n",
    "df = pd.read_csv('../data/SBA_cleaned_data.csv')\n",
    "\n",
    "df_copy = df.copy()\n",
    "\n",
    "df_copy.info()"
   ]
  },
  {
   "cell_type": "markdown",
   "metadata": {},
   "source": [
    "## Build Model"
   ]
  },
  {
   "cell_type": "code",
   "execution_count": 3,
   "metadata": {},
   "outputs": [],
   "source": [
    "# Establish target and feature fields\n",
    "use_cols = ['NAICS', 'ApprovalFY', 'Term', 'NewExist','HasFranchise','UrbanRural','RevLineCr','GrAppv']\n",
    "y = df_copy.Default\n",
    "X = df_copy[use_cols]\n",
    "\n",
    "X_train, X_test, y_train, y_test = train_test_split(X, y, test_size=0.25,random_state=520)"
   ]
  },
  {
   "cell_type": "code",
   "execution_count": null,
   "metadata": {},
   "outputs": [],
   "source": [
    "from sklearn.ensemble import RandomForestClassifier\n",
    "#initialize the model\n",
    "rfc = RandomForestClassifier()\n",
    "rfc.fit(X_train,y_train)"
   ]
  },
  {
   "cell_type": "code",
   "execution_count": 20,
   "metadata": {},
   "outputs": [
    {
     "name": "stdout",
     "output_type": "stream",
     "text": [
      "              precision    recall  f1-score   support\n",
      "\n",
      "           0      0.953     0.970     0.961    183215\n",
      "           1      0.847     0.780     0.812     39641\n",
      "\n",
      "    accuracy                          0.936    222856\n",
      "   macro avg      0.900     0.875     0.887    222856\n",
      "weighted avg      0.934     0.936     0.935    222856\n",
      "\n"
     ]
    }
   ],
   "source": [
    "y_rfpred = rfc.predict(X_test)\n",
    "print(classification_report(y_test,y_rfpred,digits=3))"
   ]
  },
  {
   "cell_type": "code",
   "execution_count": 21,
   "metadata": {
    "scrolled": true
   },
   "outputs": [
    {
     "name": "stdout",
     "output_type": "stream",
     "text": [
      "Fitting 5 folds for each of 18 candidates, totalling 90 fits\n"
     ]
    },
    {
     "name": "stderr",
     "output_type": "stream",
     "text": [
      "[Parallel(n_jobs=-1)]: Using backend LokyBackend with 8 concurrent workers.\n",
      "[Parallel(n_jobs=-1)]: Done  34 tasks      | elapsed: 14.8min\n",
      "[Parallel(n_jobs=-1)]: Done  90 out of  90 | elapsed: 39.8min finished\n"
     ]
    },
    {
     "name": "stdout",
     "output_type": "stream",
     "text": [
      "bt best hyperparams      : {'criterion': 'entropy', 'max_depth': 20, 'n_estimators': 120}\n",
      "bt best mean cv accuracy : 0.87986\n"
     ]
    }
   ],
   "source": [
    "# use cross validation to improve\n",
    "from sklearn.model_selection import GridSearchCV\n",
    "params = {\n",
    "    'n_estimators': [50, 100, 120],\n",
    "    'max_depth': [15, 20, 25],\n",
    "    'criterion': [\"gini\", \"entropy\"]\n",
    "}\n",
    "grid_search = GridSearchCV(RandomForestClassifier(), \n",
    "                           param_grid=params, \n",
    "                           refit=True,\n",
    "                           cv=5, n_jobs=-1, verbose=1, scoring = \"balanced_accuracy\").fit(X_train,y_train)\n",
    "\n",
    "print(f'bt best hyperparams      : {grid_search.best_params_}')\n",
    "print(f'bt best mean cv accuracy : {grid_search.best_score_:.5f}')"
   ]
  },
  {
   "cell_type": "code",
   "execution_count": 15,
   "metadata": {
    "scrolled": true
   },
   "outputs": [
    {
     "name": "stdout",
     "output_type": "stream",
     "text": [
      "              precision    recall  f1-score   support\n",
      "\n",
      "           0      0.956     0.971     0.963    183215\n",
      "           1      0.855     0.792     0.822     39641\n",
      "\n",
      "    accuracy                          0.939    222856\n",
      "   macro avg      0.905     0.882     0.893    222856\n",
      "weighted avg      0.938     0.939     0.938    222856\n",
      "\n"
     ]
    }
   ],
   "source": [
    "rfc_improved = RandomForestClassifier(criterion = 'entropy', max_depth = 20, n_estimators = 100).fit(X_train,y_train)\n",
    "y_rfcim_pred = rfc_improved.predict(X_test)\n",
    "print(classification_report(y_test,y_rfcim_pred,digits=3))"
   ]
  },
  {
   "cell_type": "code",
   "execution_count": 23,
   "metadata": {},
   "outputs": [
    {
     "name": "stdout",
     "output_type": "stream",
     "text": [
      "              precision    recall  f1-score   support\n",
      "\n",
      "           0      0.956     0.971     0.963    183215\n",
      "           1      0.854     0.791     0.821     39641\n",
      "\n",
      "    accuracy                          0.939    222856\n",
      "   macro avg      0.905     0.881     0.892    222856\n",
      "weighted avg      0.937     0.939     0.938    222856\n",
      "\n"
     ]
    }
   ],
   "source": [
    "rfc_improveb = RandomForestClassifier(criterion = 'entropy', max_depth = 20, n_estimators = 120).fit(X_train,y_train)\n",
    "y_rfcimb_pred = rfc_improveb.predict(X_test)"
   ]
  },
  {
   "cell_type": "code",
   "execution_count": 27,
   "metadata": {},
   "outputs": [
    {
     "data": {
      "text/plain": [
       "0.8809388127257463"
      ]
     },
     "execution_count": 27,
     "metadata": {},
     "output_type": "execute_result"
    }
   ],
   "source": [
    "from sklearn import metrics\n",
    "metrics.balanced_accuracy_score(y_test,y_rfcimb_pred)"
   ]
  },
  {
   "cell_type": "code",
   "execution_count": 28,
   "metadata": {},
   "outputs": [
    {
     "data": {
      "text/plain": [
       "0.9388169939333022"
      ]
     },
     "execution_count": 28,
     "metadata": {},
     "output_type": "execute_result"
    }
   ],
   "source": [
    "metrics.accuracy_score(y_test,y_rfcimb_pred)"
   ]
  },
  {
   "cell_type": "code",
   "execution_count": null,
   "metadata": {},
   "outputs": [],
   "source": []
  },
  {
   "cell_type": "code",
   "execution_count": null,
   "metadata": {},
   "outputs": [],
   "source": []
  },
  {
   "cell_type": "code",
   "execution_count": null,
   "metadata": {},
   "outputs": [],
   "source": []
  },
  {
   "cell_type": "code",
   "execution_count": null,
   "metadata": {},
   "outputs": [],
   "source": []
  },
  {
   "cell_type": "code",
   "execution_count": null,
   "metadata": {},
   "outputs": [],
   "source": []
  },
  {
   "cell_type": "code",
   "execution_count": 37,
   "metadata": {},
   "outputs": [
    {
     "data": {
      "text/plain": [
       "GradientBoostingClassifier(n_estimators=10)"
      ]
     },
     "execution_count": 37,
     "metadata": {},
     "output_type": "execute_result"
    }
   ],
   "source": [
    "from sklearn.ensemble import GradientBoostingClassifier\n",
    "\n",
    "gbc = GradientBoostingClassifier()\n",
    "gbc.fit(X_train,y_train)"
   ]
  },
  {
   "cell_type": "code",
   "execution_count": null,
   "metadata": {},
   "outputs": [],
   "source": []
  },
  {
   "cell_type": "code",
   "execution_count": 38,
   "metadata": {
    "scrolled": true
   },
   "outputs": [
    {
     "name": "stdout",
     "output_type": "stream",
     "text": [
      "              precision    recall  f1-score   support\n",
      "\n",
      "           0      0.874     0.980     0.924     89705\n",
      "           1      0.871     0.483     0.621     24530\n",
      "\n",
      "    accuracy                          0.874    114235\n",
      "   macro avg      0.872     0.732     0.773    114235\n",
      "weighted avg      0.873     0.874     0.859    114235\n",
      "\n"
     ]
    }
   ],
   "source": [
    "y_gbpred = gbc.predict(X_val)\n",
    "print(classification_report(y_val,y_gbpred,digits=3))"
   ]
  },
  {
   "cell_type": "code",
   "execution_count": null,
   "metadata": {},
   "outputs": [],
   "source": []
  }
 ],
 "metadata": {
  "kernelspec": {
   "display_name": "Python 3 (ipykernel)",
   "language": "python",
   "name": "python3"
  },
  "language_info": {
   "codemirror_mode": {
    "name": "ipython",
    "version": 3
   },
   "file_extension": ".py",
   "mimetype": "text/x-python",
   "name": "python",
   "nbconvert_exporter": "python",
   "pygments_lexer": "ipython3",
   "version": "3.9.7"
  }
 },
 "nbformat": 4,
 "nbformat_minor": 4
}
