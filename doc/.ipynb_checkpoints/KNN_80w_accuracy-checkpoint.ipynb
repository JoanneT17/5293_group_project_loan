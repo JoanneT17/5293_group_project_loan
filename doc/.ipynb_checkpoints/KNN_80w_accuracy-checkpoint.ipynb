{
 "cells": [
  {
   "cell_type": "code",
   "execution_count": 1,
   "id": "35a7aee0",
   "metadata": {},
   "outputs": [],
   "source": [
    "import pandas as pd\n",
    "from sklearn.model_selection import train_test_split\n",
    "from sklearn import metrics \n",
    "from sklearn import neighbors\n",
    "from sklearn.model_selection import GridSearchCV"
   ]
  },
  {
   "cell_type": "code",
   "execution_count": 2,
   "id": "72f11521",
   "metadata": {},
   "outputs": [],
   "source": [
    "# import data\n",
    "sba_processed = pd.read_csv('../data/SBA_cleaned_data.csv')\n",
    "df = sba_processed.copy().drop(columns=['Unnamed: 0','NAICS','Industry'])"
   ]
  },
  {
   "cell_type": "code",
   "execution_count": 3,
   "id": "b7a8a602",
   "metadata": {},
   "outputs": [],
   "source": [
    "# create X and y\n",
    "#X = pd.get_dummies(df.drop(columns=['Default']))\n",
    "X = df.drop(columns=['Default'])\n",
    "y = df.Default"
   ]
  },
  {
   "cell_type": "code",
   "execution_count": 4,
   "id": "00cfae09",
   "metadata": {},
   "outputs": [],
   "source": [
    "# split Train Data \n",
    "X_train, X_test, y_train, y_test = train_test_split(X, y, test_size=0.25, stratify=y, random_state=520)"
   ]
  },
  {
   "cell_type": "code",
   "execution_count": null,
   "id": "373648b2",
   "metadata": {},
   "outputs": [],
   "source": [
    "# build knn classifier model and test accuracy\n",
    "knn = neighbors.KNeighborsClassifier().fit(X_train, y_train)\n",
    "y_pred = knn.predict(X_test)\n",
    "print(\"Accuracy:\",metrics.accuracy_score(y_test, y_pred))"
   ]
  },
  {
   "cell_type": "code",
   "execution_count": 6,
   "id": "b84d163c",
   "metadata": {},
   "outputs": [
    {
     "name": "stdout",
     "output_type": "stream",
     "text": [
      "Fitting 5 folds for each of 10 candidates, totalling 50 fits\n",
      "bt best hyperparams      : {'n_neighbors': 5, 'weights': 'uniform'}\n",
      "bt best mean cv accuracy : 0.91713\n"
     ]
    }
   ],
   "source": [
    "# Improve Model\n",
    "params = {\n",
    "    'n_neighbors': [3, 5, 7, 10, 20],\n",
    "    'weights': ['uniform', 'distance']\n",
    "}\n",
    "grid_search = GridSearchCV(neighbors.KNeighborsClassifier(), \n",
    "                           param_grid=params, \n",
    "                           refit=True,\n",
    "                           cv=5, n_jobs=-1, verbose=1, scoring = \"accuracy\").fit(X_train,y_train)\n",
    "\n",
    "print(f'bt best hyperparams      : {grid_search.best_params_}')\n",
    "print(f'bt best mean cv accuracy : {grid_search.best_score_:.5f}')"
   ]
  },
  {
   "cell_type": "code",
   "execution_count": 9,
   "id": "162850d7",
   "metadata": {},
   "outputs": [
    {
     "name": "stdout",
     "output_type": "stream",
     "text": [
      "Fitting 5 folds for each of 14 candidates, totalling 70 fits\n",
      "bt best hyperparams      : {'n_neighbors': 5, 'weights': 'uniform'}\n",
      "bt best mean cv accuracy : 0.91713\n"
     ]
    }
   ],
   "source": [
    "# Improve Model again\n",
    "params = {\n",
    "    'n_neighbors': [1,2,4,5,6,8,9],\n",
    "    'weights': ['uniform', 'distance']\n",
    "}\n",
    "grid_search = GridSearchCV(neighbors.KNeighborsClassifier(), \n",
    "                           param_grid=params, \n",
    "                           refit=True,\n",
    "                           cv=5, n_jobs=-1, verbose=1, scoring = \"accuracy\").fit(X_train,y_train)\n",
    "\n",
    "print(f'bt best hyperparams      : {grid_search.best_params_}')\n",
    "print(f'bt best mean cv accuracy : {grid_search.best_score_:.5f}')"
   ]
  },
  {
   "cell_type": "code",
   "execution_count": 10,
   "id": "efb040f1",
   "metadata": {},
   "outputs": [
    {
     "name": "stdout",
     "output_type": "stream",
     "text": [
      "Accuracy: 0.9180816311878522\n"
     ]
    }
   ],
   "source": [
    "# improved knn model and test accuracy\n",
    "knn.improve = neighbors.KNeighborsClassifier(n_neighbors=5,weights='uniform').fit(X_train, y_train)\n",
    "y_pred_improved = knn.improve.predict(X_test)\n",
    "print(\"Accuracy:\",metrics.accuracy_score(y_test, y_pred_improved))"
   ]
  }
 ],
 "metadata": {
  "kernelspec": {
   "display_name": "eods-s22",
   "language": "python",
   "name": "eods-s22"
  },
  "language_info": {
   "codemirror_mode": {
    "name": "ipython",
    "version": 3
   },
   "file_extension": ".py",
   "mimetype": "text/x-python",
   "name": "python",
   "nbconvert_exporter": "python",
   "pygments_lexer": "ipython3",
   "version": "3.9.9"
  }
 },
 "nbformat": 4,
 "nbformat_minor": 5
}
