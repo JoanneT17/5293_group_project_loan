{
 "cells": [
  {
   "cell_type": "markdown",
   "id": "17e2fe5b",
   "metadata": {},
   "source": [
    "## Environment Setup"
   ]
  },
  {
   "cell_type": "code",
   "execution_count": 1,
   "id": "7180fb28",
   "metadata": {},
   "outputs": [],
   "source": [
    "# Import packages\n",
    "import pandas as pd\n",
    "import numpy as np\n",
    "import matplotlib.pyplot as plt\n",
    "import seaborn as sns\n",
    "from sklearn.model_selection import train_test_split, cross_val_score\n",
    "from sklearn.metrics import accuracy_score, confusion_matrix, classification_report\n",
    "from sklearn.preprocessing import StandardScaler\n",
    "from sklearn.pipeline import Pipeline\n",
    "from sklearn.feature_selection import SelectKBest\n",
    "from sklearn.linear_model import LogisticRegression"
   ]
  },
  {
   "cell_type": "markdown",
   "id": "96e873ec",
   "metadata": {},
   "source": [
    "## Data Processing"
   ]
  },
  {
   "cell_type": "code",
   "execution_count": 2,
   "id": "842d7caa",
   "metadata": {},
   "outputs": [
    {
     "name": "stderr",
     "output_type": "stream",
     "text": [
      "/Applications/anaconda3/lib/python3.9/site-packages/IPython/core/interactiveshell.py:3444: DtypeWarning: Columns (9) have mixed types.Specify dtype option on import or set low_memory=False.\n",
      "  exec(code_obj, self.user_global_ns, self.user_ns)\n"
     ]
    },
    {
     "name": "stdout",
     "output_type": "stream",
     "text": [
      "<class 'pandas.core.frame.DataFrame'>\n",
      "RangeIndex: 899164 entries, 0 to 899163\n",
      "Data columns (total 27 columns):\n",
      " #   Column             Non-Null Count   Dtype  \n",
      "---  ------             --------------   -----  \n",
      " 0   LoanNr_ChkDgt      899164 non-null  int64  \n",
      " 1   Name               899150 non-null  object \n",
      " 2   City               899134 non-null  object \n",
      " 3   State              899150 non-null  object \n",
      " 4   Zip                899164 non-null  int64  \n",
      " 5   Bank               897605 non-null  object \n",
      " 6   BankState          897598 non-null  object \n",
      " 7   NAICS              899164 non-null  int64  \n",
      " 8   ApprovalDate       899164 non-null  object \n",
      " 9   ApprovalFY         899164 non-null  object \n",
      " 10  Term               899164 non-null  int64  \n",
      " 11  NoEmp              899164 non-null  int64  \n",
      " 12  NewExist           899028 non-null  float64\n",
      " 13  CreateJob          899164 non-null  int64  \n",
      " 14  RetainedJob        899164 non-null  int64  \n",
      " 15  FranchiseCode      899164 non-null  int64  \n",
      " 16  UrbanRural         899164 non-null  int64  \n",
      " 17  RevLineCr          894636 non-null  object \n",
      " 18  LowDoc             896582 non-null  object \n",
      " 19  ChgOffDate         162699 non-null  object \n",
      " 20  DisbursementDate   896796 non-null  object \n",
      " 21  DisbursementGross  899164 non-null  object \n",
      " 22  BalanceGross       899164 non-null  object \n",
      " 23  MIS_Status         897167 non-null  object \n",
      " 24  ChgOffPrinGr       899164 non-null  object \n",
      " 25  GrAppv             899164 non-null  object \n",
      " 26  SBA_Appv           899164 non-null  object \n",
      "dtypes: float64(1), int64(9), object(17)\n",
      "memory usage: 185.2+ MB\n"
     ]
    }
   ],
   "source": [
    "# Load dataset\n",
    "df = pd.read_csv('/Users/apple/Downloads/archive/SBAnational.csv')\n",
    "\n",
    "df_copy = df.copy()\n",
    "\n",
    "df_copy.info()"
   ]
  },
  {
   "cell_type": "code",
   "execution_count": 3,
   "id": "f3af38dd",
   "metadata": {},
   "outputs": [
    {
     "data": {
      "text/plain": [
       "LoanNr_ChkDgt             0\n",
       "Name                     14\n",
       "City                     30\n",
       "State                    14\n",
       "Zip                       0\n",
       "Bank                   1559\n",
       "BankState              1566\n",
       "NAICS                     0\n",
       "ApprovalDate              0\n",
       "ApprovalFY                0\n",
       "Term                      0\n",
       "NoEmp                     0\n",
       "NewExist                136\n",
       "CreateJob                 0\n",
       "RetainedJob               0\n",
       "FranchiseCode             0\n",
       "UrbanRural                0\n",
       "RevLineCr              4528\n",
       "LowDoc                 2582\n",
       "ChgOffDate           736465\n",
       "DisbursementDate       2368\n",
       "DisbursementGross         0\n",
       "BalanceGross              0\n",
       "MIS_Status             1997\n",
       "ChgOffPrinGr              0\n",
       "GrAppv                    0\n",
       "SBA_Appv                  0\n",
       "dtype: int64"
      ]
     },
     "execution_count": 3,
     "metadata": {},
     "output_type": "execute_result"
    }
   ],
   "source": [
    "# Check null values in the dataset\n",
    "df_copy.isnull().sum()"
   ]
  },
  {
   "cell_type": "markdown",
   "id": "f2a3d099",
   "metadata": {},
   "source": [
    "We can see that *ChgOffDate* attribute has many null values. This is not a big concern, because we will not be using charged-off date in our model. However, we have to drop null values for some specified columns."
   ]
  },
  {
   "cell_type": "code",
   "execution_count": 4,
   "id": "3c4d2ace",
   "metadata": {},
   "outputs": [
    {
     "data": {
      "text/plain": [
       "LoanNr_ChkDgt             0\n",
       "Name                      0\n",
       "City                      0\n",
       "State                     0\n",
       "Zip                       0\n",
       "Bank                      0\n",
       "BankState                 0\n",
       "NAICS                     0\n",
       "ApprovalDate              0\n",
       "ApprovalFY                0\n",
       "Term                      0\n",
       "NoEmp                     0\n",
       "NewExist                  0\n",
       "CreateJob                 0\n",
       "RetainedJob               0\n",
       "FranchiseCode             0\n",
       "UrbanRural                0\n",
       "RevLineCr                 0\n",
       "LowDoc                    0\n",
       "ChgOffDate           725369\n",
       "DisbursementDate          0\n",
       "DisbursementGross         0\n",
       "BalanceGross              0\n",
       "MIS_Status                0\n",
       "ChgOffPrinGr              0\n",
       "GrAppv                    0\n",
       "SBA_Appv                  0\n",
       "dtype: int64"
      ]
     },
     "execution_count": 4,
     "metadata": {},
     "output_type": "execute_result"
    }
   ],
   "source": [
    "# Drop null values from specified columns\n",
    "df_copy.dropna(subset=['Name', 'City', 'State', 'BankState', 'NewExist','RevLineCr', 'LowDoc', 'DisbursementDate', 'MIS_Status'], inplace=True)\n",
    "df_copy.isnull().sum()"
   ]
  },
  {
   "cell_type": "code",
   "execution_count": 5,
   "id": "93accdb6",
   "metadata": {},
   "outputs": [],
   "source": [
    "# Remove '$', commas, and extra spaces from records in columns with dollar values that should be floats\n",
    "df_copy[['DisbursementGross', 'BalanceGross', 'ChgOffPrinGr', 'GrAppv', 'SBA_Appv']] = \\\n",
    "df_copy[['DisbursementGross', 'BalanceGross', 'ChgOffPrinGr', 'GrAppv', 'SBA_Appv']].applymap(lambda x: x.strip().replace('$', '').replace(',', ''))"
   ]
  },
  {
   "cell_type": "code",
   "execution_count": 6,
   "id": "8967fa41",
   "metadata": {},
   "outputs": [
    {
     "data": {
      "text/plain": [
       "LoanNr_ChkDgt          int64\n",
       "Name                  object\n",
       "City                  object\n",
       "State                 object\n",
       "Zip                    int64\n",
       "Bank                  object\n",
       "BankState             object\n",
       "NAICS                  int64\n",
       "ApprovalDate          object\n",
       "ApprovalFY            object\n",
       "Term                   int64\n",
       "NoEmp                  int64\n",
       "NewExist             float64\n",
       "CreateJob              int64\n",
       "RetainedJob            int64\n",
       "FranchiseCode          int64\n",
       "UrbanRural             int64\n",
       "RevLineCr             object\n",
       "LowDoc                object\n",
       "ChgOffDate            object\n",
       "DisbursementDate      object\n",
       "DisbursementGross     object\n",
       "BalanceGross          object\n",
       "MIS_Status            object\n",
       "ChgOffPrinGr          object\n",
       "GrAppv                object\n",
       "SBA_Appv              object\n",
       "dtype: object"
      ]
     },
     "execution_count": 6,
     "metadata": {},
     "output_type": "execute_result"
    }
   ],
   "source": [
    "# Check data types of each feature\n",
    "df_copy.dtypes"
   ]
  },
  {
   "cell_type": "code",
   "execution_count": 7,
   "id": "8c5a948a",
   "metadata": {},
   "outputs": [],
   "source": [
    "# Create a function to apply formatting to the records of str type only\n",
    "def clean_str(x):\n",
    "    if isinstance(x, str):\n",
    "        return x.replace('A', '')\n",
    "    return x\n",
    "\n",
    "\n",
    "df_copy['ApprovalFY'] = df_copy['ApprovalFY'].apply(clean_str).astype('int64')"
   ]
  },
  {
   "cell_type": "code",
   "execution_count": 8,
   "id": "0ce90b35",
   "metadata": {},
   "outputs": [
    {
     "data": {
      "text/plain": [
       "LoanNr_ChkDgt          int64\n",
       "Name                  object\n",
       "City                  object\n",
       "State                 object\n",
       "Zip                   object\n",
       "Bank                  object\n",
       "BankState             object\n",
       "NAICS                  int64\n",
       "ApprovalDate          object\n",
       "ApprovalFY             int64\n",
       "Term                   int64\n",
       "NoEmp                  int64\n",
       "NewExist               int64\n",
       "CreateJob              int64\n",
       "RetainedJob            int64\n",
       "FranchiseCode          int64\n",
       "UrbanRural            object\n",
       "RevLineCr             object\n",
       "LowDoc                object\n",
       "ChgOffDate            object\n",
       "DisbursementDate      object\n",
       "DisbursementGross    float64\n",
       "BalanceGross         float64\n",
       "MIS_Status            object\n",
       "ChgOffPrinGr         float64\n",
       "GrAppv               float64\n",
       "SBA_Appv             float64\n",
       "dtype: object"
      ]
     },
     "execution_count": 8,
     "metadata": {},
     "output_type": "execute_result"
    }
   ],
   "source": [
    "# Change the type of NewExist to an integer, Zip and UrbanRural to str (categorical) and all currency-related fields to float values\n",
    "df_copy = df_copy.astype({'Zip': 'str', 'NewExist': 'int64', 'UrbanRural': 'str', 'DisbursementGross': 'float', 'BalanceGross': 'float',\n",
    "                          'ChgOffPrinGr': 'float', 'GrAppv': 'float', 'SBA_Appv': 'float'})\n",
    "\n",
    "# Check to see dtypes again\n",
    "df_copy.dtypes"
   ]
  },
  {
   "cell_type": "code",
   "execution_count": 9,
   "id": "1afaf2a8",
   "metadata": {},
   "outputs": [],
   "source": [
    "# Create a new column with the industry the NAICS code represents\n",
    "# Selects only the first two numbers of the NAICS code\n",
    "df_copy['Industry'] = df_copy['NAICS'].astype('str').apply(lambda x: x[:2])\n",
    "\n",
    "# Maps the approprate industry to each record based on the first two digits of the NAICS code\n",
    "df_copy['Industry'] = df_copy['Industry'].map({\n",
    "    '11': 'Ag/For/Fish/Hunt',\n",
    "    '21': 'Min/Quar/Oil_Gas_ext',\n",
    "    '22': 'Utilities',\n",
    "    '23': 'Construction',\n",
    "    '31': 'Manufacturing',\n",
    "    '32': 'Manufacturing',\n",
    "    '33': 'Manufacturing',\n",
    "    '42': 'Wholesale_trade',\n",
    "    '44': 'Retail_trade',\n",
    "    '45': 'Retail_trade',\n",
    "    '48': 'Trans/Ware',\n",
    "    '49': 'Trans/Ware',\n",
    "    '51': 'Information',\n",
    "    '52': 'Finance/Insurance',\n",
    "    '53': 'RE/Rental/Lease',\n",
    "    '54': 'Prof/Science/Tech',\n",
    "    '55': 'Mgmt_comp',\n",
    "    '56': 'Admin_sup/Waste_Mgmt_Rem',\n",
    "    '61': 'Educational',\n",
    "    '62': 'Healthcare/Social_assist',\n",
    "    '71': 'Arts/Entertain/Rec',\n",
    "    '72': 'Accom/Food_serv',\n",
    "    '81': 'Other_no_pub',\n",
    "    '92': 'Public_Admin'\n",
    "})\n",
    "\n",
    "# Remove records where Industry is NaN (NAICS code was a 0)\n",
    "df_copy.dropna(subset=['Industry'], inplace=True)"
   ]
  },
  {
   "cell_type": "code",
   "execution_count": 10,
   "id": "ff36808e",
   "metadata": {},
   "outputs": [],
   "source": [
    "# Create flag column IsFranchise based on FranchiseCode column\n",
    "df_copy.loc[(df_copy['FranchiseCode'] <= 1), 'IsFranchise'] = 0\n",
    "df_copy.loc[(df_copy['FranchiseCode'] > 1), 'IsFranchise'] = 1"
   ]
  },
  {
   "cell_type": "code",
   "execution_count": 11,
   "id": "ba7bb742",
   "metadata": {},
   "outputs": [
    {
     "data": {
      "text/plain": [
       "array([2, 1, 0])"
      ]
     },
     "execution_count": 11,
     "metadata": {},
     "output_type": "execute_result"
    }
   ],
   "source": [
    "# NewExist\n",
    "# Makesure NewExist has only 1s and 2s; Remove records where NewExist isn't 1 or 2\n",
    "df_copy['NewExist'].unique()"
   ]
  },
  {
   "cell_type": "code",
   "execution_count": 12,
   "id": "c3033a0c",
   "metadata": {},
   "outputs": [],
   "source": [
    "# Keep records where NewExist == 1 or 2\n",
    "df_copy = df_copy[(df_copy['NewExist'] == 1) | (df_copy['NewExist'] == 2)]\n",
    "\n",
    "# Create NewBusiness field where 0 = Existing business and 1 = New business; based on NewExist field\n",
    "df_copy.loc[(df_copy['NewExist'] == 1), 'NewBusiness'] = 0\n",
    "df_copy.loc[(df_copy['NewExist'] == 2), 'NewBusiness'] = 1"
   ]
  },
  {
   "cell_type": "code",
   "execution_count": 13,
   "id": "371227e6",
   "metadata": {},
   "outputs": [
    {
     "data": {
      "text/plain": [
       "array(['N', 'Y', '0', 'T', '`', ',', '1', 'C', '2', 'R', '7', 'A', '-',\n",
       "       'Q'], dtype=object)"
      ]
     },
     "execution_count": 13,
     "metadata": {},
     "output_type": "execute_result"
    }
   ],
   "source": [
    "# RevLineCr and LowDoc\n",
    "# Double check RevLineCr and LowDoc unique values\n",
    "df_copy['RevLineCr'].unique()"
   ]
  },
  {
   "cell_type": "code",
   "execution_count": 14,
   "id": "c9445568",
   "metadata": {},
   "outputs": [
    {
     "data": {
      "text/plain": [
       "array(['Y', 'N', 'C', '1', 'S', 'R', 'A', '0'], dtype=object)"
      ]
     },
     "execution_count": 14,
     "metadata": {},
     "output_type": "execute_result"
    }
   ],
   "source": [
    "df_copy['LowDoc'].unique()"
   ]
  },
  {
   "cell_type": "code",
   "execution_count": 15,
   "id": "201c7def",
   "metadata": {},
   "outputs": [
    {
     "name": "stdout",
     "output_type": "stream",
     "text": [
      "[0 1]\n",
      "[1 0]\n"
     ]
    }
   ],
   "source": [
    "# Remove records where RevLineCr != 'Y' or 'N' and LowDoc != 'Y' or 'N'\n",
    "df_copy = df_copy[(df_copy['RevLineCr'] == 'Y') | (df_copy['RevLineCr'] == 'N')]\n",
    "df_copy = df_copy[(df_copy['LowDoc'] == 'Y') | (df_copy['LowDoc'] == 'N')]\n",
    "\n",
    "# RevLineCr and LowDoc: 0 = No, 1 = Yes\n",
    "df_copy['RevLineCr'] = np.where(df_copy['RevLineCr'] == 'N', 0, 1)\n",
    "df_copy['LowDoc'] = np.where(df_copy['LowDoc'] == 'N', 0, 1)\n",
    "\n",
    "# Check that it worked\n",
    "print(df_copy['RevLineCr'].unique())\n",
    "print(df_copy['LowDoc'].unique())"
   ]
  },
  {
   "cell_type": "code",
   "execution_count": 16,
   "id": "ba4b52f2",
   "metadata": {},
   "outputs": [
    {
     "data": {
      "text/plain": [
       "0    358558\n",
       "1     98382\n",
       "Name: Default, dtype: int64"
      ]
     },
     "execution_count": 16,
     "metadata": {},
     "output_type": "execute_result"
    }
   ],
   "source": [
    "# MIS_Status\n",
    "# Make Default target field based on MIS_Status where P I F = 0 and CHGOFF = 1 so we can see what features are prevalant in a defaulted loan\n",
    "df_copy['Default'] = np.where(df_copy['MIS_Status'] == 'P I F', 0, 1)\n",
    "df_copy['Default'].value_counts()"
   ]
  },
  {
   "cell_type": "code",
   "execution_count": 17,
   "id": "466af96e",
   "metadata": {},
   "outputs": [],
   "source": [
    "# Convert ApprovalDate and DisbursementDate columns to datetime values\n",
    "# ChgOffDate not changed to datetime since it is not of value and will be removed later\n",
    "df_copy[['ApprovalDate', 'DisbursementDate']] = df_copy[['ApprovalDate', 'DisbursementDate']].apply(pd.to_datetime)"
   ]
  },
  {
   "cell_type": "code",
   "execution_count": 18,
   "id": "d7b5efb6",
   "metadata": {},
   "outputs": [],
   "source": [
    "# Create DaysToDisbursement column which calculates the number of days passed between DisbursementDate and ApprovalDate\n",
    "df_copy['DaysToDisbursement'] = df_copy['DisbursementDate'] - df_copy['ApprovalDate']\n",
    "\n",
    "# Change DaysToDisbursement from a timedelta64 dtype to an int64 dtype\n",
    "# Converts series to str, removes all characters after the space before 'd' in days for each record, then changes the dtype to int\n",
    "df_copy['DaysToDisbursement'] = df_copy['DaysToDisbursement'].astype('str').apply(lambda x: x[:x.index('d') - 1]).astype('int64')"
   ]
  },
  {
   "cell_type": "code",
   "execution_count": 19,
   "id": "abfbf71e",
   "metadata": {},
   "outputs": [],
   "source": [
    "# Create DisbursementFY field for time selection criteria later\n",
    "df_copy['DisbursementFY'] = df_copy['DisbursementDate'].map(lambda x: x.year)"
   ]
  },
  {
   "cell_type": "code",
   "execution_count": 20,
   "id": "7db80c43",
   "metadata": {},
   "outputs": [],
   "source": [
    "# Create StateSame flag field which identifies where the business State is the same as the BankState\n",
    "df_copy['StateSame'] = np.where(df_copy['State'] == df_copy['BankState'], 1, 0)"
   ]
  },
  {
   "cell_type": "code",
   "execution_count": 21,
   "id": "05868a82",
   "metadata": {},
   "outputs": [],
   "source": [
    "# Create SBA_AppvPct field since the guaranteed amount is based on a percentage of the gross loan amount rather than dollar amount in most situations\n",
    "df_copy['SBA_AppvPct'] = df_copy['SBA_Appv'] / df_copy['GrAppv']"
   ]
  },
  {
   "cell_type": "code",
   "execution_count": 22,
   "id": "534bc3c1",
   "metadata": {},
   "outputs": [],
   "source": [
    "# Create AppvDisbursed flag field signifying if the loan amount disbursed was equal to the full amount approved\n",
    "df_copy['AppvDisbursed'] = np.where(df_copy['DisbursementGross'] == df_copy['GrAppv'], 1, 0)"
   ]
  },
  {
   "cell_type": "code",
   "execution_count": 23,
   "id": "03772bcd",
   "metadata": {},
   "outputs": [
    {
     "data": {
      "text/plain": [
       "LoanNr_ChkDgt                  int64\n",
       "Name                          object\n",
       "City                          object\n",
       "State                         object\n",
       "Zip                           object\n",
       "Bank                          object\n",
       "BankState                     object\n",
       "NAICS                          int64\n",
       "ApprovalDate          datetime64[ns]\n",
       "ApprovalFY                     int64\n",
       "Term                           int64\n",
       "NoEmp                          int64\n",
       "NewExist                       int64\n",
       "CreateJob                      int64\n",
       "RetainedJob                    int64\n",
       "FranchiseCode                  int64\n",
       "UrbanRural                    object\n",
       "RevLineCr                      int64\n",
       "LowDoc                         int64\n",
       "ChgOffDate                    object\n",
       "DisbursementDate      datetime64[ns]\n",
       "DisbursementGross            float64\n",
       "BalanceGross                 float64\n",
       "MIS_Status                    object\n",
       "ChgOffPrinGr                 float64\n",
       "GrAppv                       float64\n",
       "SBA_Appv                     float64\n",
       "Industry                      object\n",
       "IsFranchise                  float64\n",
       "NewBusiness                  float64\n",
       "Default                        int64\n",
       "DaysToDisbursement             int64\n",
       "DisbursementFY                 int64\n",
       "StateSame                      int64\n",
       "SBA_AppvPct                  float64\n",
       "AppvDisbursed                  int64\n",
       "dtype: object"
      ]
     },
     "execution_count": 23,
     "metadata": {},
     "output_type": "execute_result"
    }
   ],
   "source": [
    "df_copy.dtypes"
   ]
  },
  {
   "cell_type": "code",
   "execution_count": 24,
   "id": "fe37314e",
   "metadata": {},
   "outputs": [
    {
     "data": {
      "text/plain": [
       "LoanNr_ChkDgt                  int64\n",
       "Name                          object\n",
       "City                          object\n",
       "State                         object\n",
       "Zip                           object\n",
       "Bank                          object\n",
       "BankState                     object\n",
       "NAICS                          int64\n",
       "ApprovalDate          datetime64[ns]\n",
       "ApprovalFY                     int64\n",
       "Term                           int64\n",
       "NoEmp                          int64\n",
       "NewExist                       int64\n",
       "CreateJob                      int64\n",
       "RetainedJob                    int64\n",
       "FranchiseCode                  int64\n",
       "UrbanRural                    object\n",
       "RevLineCr                      int64\n",
       "LowDoc                         int64\n",
       "ChgOffDate                    object\n",
       "DisbursementDate      datetime64[ns]\n",
       "DisbursementGross            float64\n",
       "BalanceGross                 float64\n",
       "MIS_Status                    object\n",
       "ChgOffPrinGr                 float64\n",
       "GrAppv                       float64\n",
       "SBA_Appv                     float64\n",
       "Industry                      object\n",
       "IsFranchise                    int64\n",
       "NewBusiness                    int64\n",
       "Default                        int64\n",
       "DaysToDisbursement             int64\n",
       "DisbursementFY                 int64\n",
       "StateSame                      int64\n",
       "SBA_AppvPct                  float64\n",
       "AppvDisbursed                  int64\n",
       "dtype: object"
      ]
     },
     "execution_count": 24,
     "metadata": {},
     "output_type": "execute_result"
    }
   ],
   "source": [
    "# Format dtypes where necessary after feature engineering\n",
    "df_copy = df_copy.astype({'IsFranchise': 'int64', 'NewBusiness': 'int64'})\n",
    "df_copy.dtypes"
   ]
  },
  {
   "cell_type": "markdown",
   "id": "277dcdc1",
   "metadata": {},
   "source": [
    "Now that each field we care about appears to have the correct data type, we can remove the fields that won't provide much value to the analysis. These are as follows:\n",
    "\n",
    "+ LoanNr_ChkDgt and Name - provides no value to the actual analysis\n",
    "\n",
    "+ City and Zip - each have a large number of unique values, and my assumption is that it is not likely either would have any particularly significant values\n",
    "\n",
    "+ Bank - Name of the bank shouldn't matter for analysis, however this could potentially be used when revisiting this analysis to determine the asset size of the bank servicing the loan\n",
    "\n",
    "+ ChgOffDate - only applies when a loan is charged off and isn't relevant to the analysis\n",
    "\n",
    "+ NAICS - replaced by Industry\n",
    "\n",
    "+ NewExist - replaced by NewBusiness flag field\n",
    "\n",
    "+ FranchiseCode - replaced by IsFranchise flag field\n",
    "\n",
    "+ ApprovalDate and DisbursementDate - hypothesis that DaysToDisbursement will be more valueable\n",
    "\n",
    "+ SBA_Appv - guaranteed amount is based on percentage of gross loan amount, not dollar amount typically\n",
    "\n",
    "+ MIS_Status - Default field replaces this as the target field"
   ]
  },
  {
   "cell_type": "code",
   "execution_count": 25,
   "id": "f0ae2ba6",
   "metadata": {},
   "outputs": [],
   "source": [
    "df_copy.drop(columns=['LoanNr_ChkDgt', 'Name', 'City', 'Zip', 'Bank', 'NAICS', 'ApprovalDate', 'NewExist', 'FranchiseCode',\n",
    "                      'ChgOffDate', 'DisbursementDate', 'BalanceGross', 'ChgOffPrinGr', 'SBA_Appv', 'MIS_Status'], inplace=True)"
   ]
  },
  {
   "cell_type": "code",
   "execution_count": 26,
   "id": "55abc1f2",
   "metadata": {},
   "outputs": [
    {
     "data": {
      "text/plain": [
       "State                 0\n",
       "BankState             0\n",
       "ApprovalFY            0\n",
       "Term                  0\n",
       "NoEmp                 0\n",
       "CreateJob             0\n",
       "RetainedJob           0\n",
       "UrbanRural            0\n",
       "RevLineCr             0\n",
       "LowDoc                0\n",
       "DisbursementGross     0\n",
       "GrAppv                0\n",
       "Industry              0\n",
       "IsFranchise           0\n",
       "NewBusiness           0\n",
       "Default               0\n",
       "DaysToDisbursement    0\n",
       "DisbursementFY        0\n",
       "StateSame             0\n",
       "SBA_AppvPct           0\n",
       "AppvDisbursed         0\n",
       "dtype: int64"
      ]
     },
     "execution_count": 26,
     "metadata": {},
     "output_type": "execute_result"
    }
   ],
   "source": [
    "# Verify all null values are removed from data\n",
    "df_copy.isnull().sum()"
   ]
  },
  {
   "cell_type": "code",
   "execution_count": 27,
   "id": "433dc3bb",
   "metadata": {},
   "outputs": [
    {
     "data": {
      "text/plain": [
       "(456940, 21)"
      ]
     },
     "execution_count": 27,
     "metadata": {},
     "output_type": "execute_result"
    }
   ],
   "source": [
    "# Check the shape of the data as it stands\n",
    "df_copy.shape"
   ]
  },
  {
   "cell_type": "code",
   "execution_count": 28,
   "id": "8900637c",
   "metadata": {},
   "outputs": [
    {
     "data": {
      "image/png": "[encoded data removed]",
      "text/plain": [
       "<Figure size 1080x720 with 2 Axes>"
      ]
     },
     "metadata": {
      "needs_background": "light"
     },
     "output_type": "display_data"
    }
   ],
   "source": [
    "# Correlation Matrix\n",
    "cor_fig, cor_ax = plt.subplots(figsize=(15, 10))\n",
    "corr_matrix = df_copy.corr()\n",
    "cor_ax = sns.heatmap(corr_matrix, annot=True)\n",
    "plt.xticks(rotation=30, horizontalalignment='right', fontsize=8)\n",
    "plt.yticks(fontsize=8)\n",
    "\n",
    "plt.show()"
   ]
  },
  {
   "cell_type": "markdown",
   "id": "b4540b03",
   "metadata": {},
   "source": [
    "## Build Model"
   ]
  },
  {
   "cell_type": "code",
   "execution_count": 29,
   "id": "23d5e580",
   "metadata": {},
   "outputs": [
    {
     "data": {
      "text/html": [
       "<div>\n",
       "<style scoped>\n",
       "    .dataframe tbody tr th:only-of-type {\n",
       "        vertical-align: middle;\n",
       "    }\n",
       "\n",
       "    .dataframe tbody tr th {\n",
       "        vertical-align: top;\n",
       "    }\n",
       "\n",
       "    .dataframe thead th {\n",
       "        text-align: right;\n",
       "    }\n",
       "</style>\n",
       "<table border=\"1\" class=\"dataframe\">\n",
       "  <thead>\n",
       "    <tr style=\"text-align: right;\">\n",
       "      <th></th>\n",
       "      <th>ApprovalFY</th>\n",
       "      <th>Term</th>\n",
       "      <th>NoEmp</th>\n",
       "      <th>CreateJob</th>\n",
       "      <th>RetainedJob</th>\n",
       "      <th>RevLineCr</th>\n",
       "      <th>LowDoc</th>\n",
       "      <th>DisbursementGross</th>\n",
       "      <th>GrAppv</th>\n",
       "      <th>IsFranchise</th>\n",
       "      <th>...</th>\n",
       "      <th>Industry_Mgmt_comp</th>\n",
       "      <th>Industry_Min/Quar/Oil_Gas_ext</th>\n",
       "      <th>Industry_Other_no_pub</th>\n",
       "      <th>Industry_Prof/Science/Tech</th>\n",
       "      <th>Industry_Public_Admin</th>\n",
       "      <th>Industry_RE/Rental/Lease</th>\n",
       "      <th>Industry_Retail_trade</th>\n",
       "      <th>Industry_Trans/Ware</th>\n",
       "      <th>Industry_Utilities</th>\n",
       "      <th>Industry_Wholesale_trade</th>\n",
       "    </tr>\n",
       "  </thead>\n",
       "  <tbody>\n",
       "    <tr>\n",
       "      <th>0</th>\n",
       "      <td>1997</td>\n",
       "      <td>84</td>\n",
       "      <td>4</td>\n",
       "      <td>0</td>\n",
       "      <td>0</td>\n",
       "      <td>0</td>\n",
       "      <td>1</td>\n",
       "      <td>60000.0</td>\n",
       "      <td>60000.0</td>\n",
       "      <td>0</td>\n",
       "      <td>...</td>\n",
       "      <td>0</td>\n",
       "      <td>0</td>\n",
       "      <td>0</td>\n",
       "      <td>0</td>\n",
       "      <td>0</td>\n",
       "      <td>0</td>\n",
       "      <td>1</td>\n",
       "      <td>0</td>\n",
       "      <td>0</td>\n",
       "      <td>0</td>\n",
       "    </tr>\n",
       "    <tr>\n",
       "      <th>1</th>\n",
       "      <td>1997</td>\n",
       "      <td>60</td>\n",
       "      <td>2</td>\n",
       "      <td>0</td>\n",
       "      <td>0</td>\n",
       "      <td>0</td>\n",
       "      <td>1</td>\n",
       "      <td>40000.0</td>\n",
       "      <td>40000.0</td>\n",
       "      <td>0</td>\n",
       "      <td>...</td>\n",
       "      <td>0</td>\n",
       "      <td>0</td>\n",
       "      <td>0</td>\n",
       "      <td>0</td>\n",
       "      <td>0</td>\n",
       "      <td>0</td>\n",
       "      <td>0</td>\n",
       "      <td>0</td>\n",
       "      <td>0</td>\n",
       "      <td>0</td>\n",
       "    </tr>\n",
       "    <tr>\n",
       "      <th>2</th>\n",
       "      <td>1997</td>\n",
       "      <td>180</td>\n",
       "      <td>7</td>\n",
       "      <td>0</td>\n",
       "      <td>0</td>\n",
       "      <td>0</td>\n",
       "      <td>0</td>\n",
       "      <td>287000.0</td>\n",
       "      <td>287000.0</td>\n",
       "      <td>0</td>\n",
       "      <td>...</td>\n",
       "      <td>0</td>\n",
       "      <td>0</td>\n",
       "      <td>0</td>\n",
       "      <td>0</td>\n",
       "      <td>0</td>\n",
       "      <td>0</td>\n",
       "      <td>0</td>\n",
       "      <td>0</td>\n",
       "      <td>0</td>\n",
       "      <td>0</td>\n",
       "    </tr>\n",
       "    <tr>\n",
       "      <th>5</th>\n",
       "      <td>1997</td>\n",
       "      <td>120</td>\n",
       "      <td>19</td>\n",
       "      <td>0</td>\n",
       "      <td>0</td>\n",
       "      <td>0</td>\n",
       "      <td>0</td>\n",
       "      <td>517000.0</td>\n",
       "      <td>517000.0</td>\n",
       "      <td>0</td>\n",
       "      <td>...</td>\n",
       "      <td>0</td>\n",
       "      <td>0</td>\n",
       "      <td>0</td>\n",
       "      <td>0</td>\n",
       "      <td>0</td>\n",
       "      <td>0</td>\n",
       "      <td>0</td>\n",
       "      <td>0</td>\n",
       "      <td>0</td>\n",
       "      <td>0</td>\n",
       "    </tr>\n",
       "    <tr>\n",
       "      <th>7</th>\n",
       "      <td>1997</td>\n",
       "      <td>84</td>\n",
       "      <td>1</td>\n",
       "      <td>0</td>\n",
       "      <td>0</td>\n",
       "      <td>0</td>\n",
       "      <td>1</td>\n",
       "      <td>45000.0</td>\n",
       "      <td>45000.0</td>\n",
       "      <td>0</td>\n",
       "      <td>...</td>\n",
       "      <td>0</td>\n",
       "      <td>0</td>\n",
       "      <td>1</td>\n",
       "      <td>0</td>\n",
       "      <td>0</td>\n",
       "      <td>0</td>\n",
       "      <td>0</td>\n",
       "      <td>0</td>\n",
       "      <td>0</td>\n",
       "      <td>0</td>\n",
       "    </tr>\n",
       "  </tbody>\n",
       "</table>\n",
       "<p>5 rows × 145 columns</p>\n",
       "</div>"
      ],
      "text/plain": [
       "   ApprovalFY  Term  NoEmp  CreateJob  RetainedJob  RevLineCr  LowDoc  \\\n",
       "0        1997    84      4          0            0          0       1   \n",
       "1        1997    60      2          0            0          0       1   \n",
       "2        1997   180      7          0            0          0       0   \n",
       "5        1997   120     19          0            0          0       0   \n",
       "7        1997    84      1          0            0          0       1   \n",
       "\n",
       "   DisbursementGross    GrAppv  IsFranchise  ...  Industry_Mgmt_comp  \\\n",
       "0            60000.0   60000.0            0  ...                   0   \n",
       "1            40000.0   40000.0            0  ...                   0   \n",
       "2           287000.0  287000.0            0  ...                   0   \n",
       "5           517000.0  517000.0            0  ...                   0   \n",
       "7            45000.0   45000.0            0  ...                   0   \n",
       "\n",
       "   Industry_Min/Quar/Oil_Gas_ext  Industry_Other_no_pub  \\\n",
       "0                              0                      0   \n",
       "1                              0                      0   \n",
       "2                              0                      0   \n",
       "5                              0                      0   \n",
       "7                              0                      1   \n",
       "\n",
       "   Industry_Prof/Science/Tech  Industry_Public_Admin  \\\n",
       "0                           0                      0   \n",
       "1                           0                      0   \n",
       "2                           0                      0   \n",
       "5                           0                      0   \n",
       "7                           0                      0   \n",
       "\n",
       "   Industry_RE/Rental/Lease  Industry_Retail_trade  Industry_Trans/Ware  \\\n",
       "0                         0                      1                    0   \n",
       "1                         0                      0                    0   \n",
       "2                         0                      0                    0   \n",
       "5                         0                      0                    0   \n",
       "7                         0                      0                    0   \n",
       "\n",
       "   Industry_Utilities  Industry_Wholesale_trade  \n",
       "0                   0                         0  \n",
       "1                   0                         0  \n",
       "2                   0                         0  \n",
       "5                   0                         0  \n",
       "7                   0                         0  \n",
       "\n",
       "[5 rows x 145 columns]"
      ]
     },
     "execution_count": 29,
     "metadata": {},
     "output_type": "execute_result"
    }
   ],
   "source": [
    "# One-hot encode categorical data\n",
    "df_copy = pd.get_dummies(df_copy)\n",
    "\n",
    "df_copy.head()"
   ]
  },
  {
   "cell_type": "code",
   "execution_count": 30,
   "id": "6f2f6e71",
   "metadata": {},
   "outputs": [],
   "source": [
    "# Establish target and feature fields\n",
    "y = df_copy['Default']\n",
    "X = df_copy.drop('Default', axis=1)\n",
    "\n",
    "# Scale the feature values prior to modeling\n",
    "scale = StandardScaler()\n",
    "X_scaled = scale.fit_transform(X)\n",
    "\n",
    "X_train, X_val, y_train, y_val = train_test_split(X_scaled, y, test_size=0.25)"
   ]
  },
  {
   "cell_type": "code",
   "execution_count": 31,
   "id": "b92136e4",
   "metadata": {},
   "outputs": [
    {
     "name": "stdout",
     "output_type": "stream",
     "text": [
      "              precision    recall  f1-score   support\n",
      "\n",
      "           0      0.887     0.954     0.919     89666\n",
      "           1      0.769     0.556     0.646     24569\n",
      "\n",
      "    accuracy                          0.869    114235\n",
      "   macro avg      0.828     0.755     0.783    114235\n",
      "weighted avg      0.862     0.869     0.861    114235\n",
      "\n"
     ]
    }
   ],
   "source": [
    "# Initialize model\n",
    "log_reg = LogisticRegression(random_state=2)\n",
    "\n",
    "# Train the model and make predictions\n",
    "log_reg.fit(X_train, y_train)\n",
    "y_logpred = log_reg.predict(X_val)\n",
    "\n",
    "# Print the results\n",
    "print(classification_report(y_val, y_logpred, digits=3))"
   ]
  }
 ],
 "metadata": {
  "kernelspec": {
   "display_name": "Python 3 (ipykernel)",
   "language": "python",
   "name": "python3"
  },
  "language_info": {
   "codemirror_mode": {
    "name": "ipython",
    "version": 3
   },
   "file_extension": ".py",
   "mimetype": "text/x-python",
   "name": "python",
   "nbconvert_exporter": "python",
   "pygments_lexer": "ipython3",
   "version": "3.9.7"
  }
 },
 "nbformat": 4,
 "nbformat_minor": 5
}
